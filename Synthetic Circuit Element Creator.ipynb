{
 "cells": [
  {
   "cell_type": "code",
   "execution_count": 3,
   "metadata": {},
   "outputs": [],
   "source": [
    "import numpy as np\n",
    "import matplotlib.pyplot as plt\n",
    "from random import gauss"
   ]
  },
  {
   "cell_type": "markdown",
   "metadata": {},
   "source": [
    "#### Plan\n",
    "\n",
    "Elements: voltage source\n",
    "\n",
    "Meaningful variables: rotation, position\n",
    "\n",
    "Noise: rotation of orientation, stretching of shape, etc.\n",
    "\n",
    "Rest of background must be randomly generated and uniformly distributed, but same density as the image (maybe generate random lines and shapes)\n",
    "\n",
    "#### Implementation\n",
    "\n",
    "Each shape stored as a one mask; then just bitwise or each mask together with a zeros array"
   ]
  },
  {
   "cell_type": "markdown",
   "metadata": {},
   "source": [
    "## Random Number Generation + General Parameters"
   ]
  },
  {
   "cell_type": "code",
   "execution_count": 830,
   "metadata": {},
   "outputs": [],
   "source": [
    "GRID_SIZE = 1000\n",
    "CENTER_NOISE_STD_PROPORTION = 0.4\n",
    "ROT_NOISE_STD = 6\n",
    "STRETCH_STD = 0.1\n",
    "MIN_STRETCH, MAX_STRETCH = -0.4, 0.4\n",
    "ADDITIVE_STD = GRID_SIZE / 500\n",
    "\n",
    "def get_random_center(lower_padding=0, upper_padding=0, lower_bound=None, upper_bound=None):\n",
    "    x, y = gauss(0, CENTER_NOISE_STD_PROPORTION*GRID_SIZE), gauss(0, CENTER_NOISE_STD_PROPORTION*GRID_SIZE)\n",
    "    if lower_bound is None and upper_bound is None:\n",
    "        lower_bound, upper_bound = -GRID_SIZE//2+1+lower_padding, GRID_SIZE//2-1-lower_padding\n",
    "    x, y = constrain(x, lower_bound, upper_bound), constrain(y, lower_bound, upper_bound)\n",
    "    return np.round(np.array([x, y])).astype('int32')\n",
    "def get_random_rotation(lower_bound=-90, upper_bound =90):\n",
    "    # Range from -90 to 90\n",
    "    return constrain(gauss(0, ROT_NOISE_STD), lower_bound, upper_bound)\n",
    "    return rot\n",
    "def get_random_stretch(lower_bound=MIN_STRETCH, upper_bound=MAX_STRETCH):\n",
    "    return 1 + constrain(gauss(0, STRETCH_STD), lower_bound, upper_bound)\n",
    "def get_additive_noise():\n",
    "    return int(gauss(0, ADDITIVE_STD))\n",
    "\n",
    "constrain = lambda val, lower, upper: max(lower, min(upper, val))"
   ]
  },
  {
   "cell_type": "markdown",
   "metadata": {},
   "source": [
    "## Basic Geometric Shapes"
   ]
  },
  {
   "cell_type": "code",
   "execution_count": 1028,
   "metadata": {},
   "outputs": [],
   "source": [
    "def rotate(points, theta, noisy=False):\n",
    "    \"\"\"\n",
    "    Inputs:\n",
    "        points - an nx2 NumPy vector, in which each entry is an (x, y) pair\n",
    "        theta - degrees by which to rotate\n",
    "    \"\"\"\n",
    "    theta = -theta # CHANGE IF CHANGING IMAGE CONVENTION\n",
    "    if noisy:\n",
    "        theta += get_random_rotation()\n",
    "    theta = np.radians(theta)\n",
    "    rotation_matrix = np.array([\n",
    "        [np.cos(theta), -np.sin(theta)],\n",
    "        [np.sin(theta), np.cos(theta)]\n",
    "    ])\n",
    "    return np.round(rotation_matrix.dot(points.T).T).astype('int32')\n",
    "\n",
    "def stretch(points, x_factor=None, y_factor=None):\n",
    "    if x_factor is None and y_factor is None:\n",
    "        x_factor = get_random_stretch()\n",
    "        y_factor = get_random_stretch()\n",
    "    stretch_matrix = np.array([\n",
    "        [x_factor, 0],\n",
    "        [0, y_factor]\n",
    "    ])\n",
    "    return np.round(stretch_matrix.dot(points.T).T).astype('int32')\n",
    "\n",
    "def line(length, center, thickness, theta, grid_size, noisy=False):\n",
    "    \"\"\"\n",
    "    Inputs:\n",
    "        length: overall length of the line, endpoint to endpoint\n",
    "        theta: counterclockwise angle (degrees) by which the line is rotated\n",
    "        center: midpoint of the line\n",
    "        thickness: line is 2*thickness - 1 pixels thick\n",
    "    \"\"\"\n",
    "    center = center.astype('int32')\n",
    "    if center is None:\n",
    "        center = get_random_center(length, length)\n",
    "    grid = np.zeros((grid_size, grid_size))\n",
    "    points = np.array([[x, y] for x in range(int(-length//2), int(length//2)+1) for y in range(-thickness+1, thickness)])\n",
    "    points = rotate(points, theta, noisy=noisy)\n",
    "    if noisy:\n",
    "        for pt in points:\n",
    "            grid[pt[1] + center[1] + get_additive_noise()][pt[0] + center[0] + get_additive_noise()] = 1\n",
    "    else:\n",
    "        for pt in points:\n",
    "            grid[pt[1] + center[1]][pt[0] + center[0]] = 1\n",
    "    return np.roll(grid, (grid_size//2+1, grid_size//2+1), axis=(0, 1))\n",
    "\n",
    "def line_endpoint(start, end, thickness, grid_size, noisy=False):\n",
    "    length = int(np.sqrt((start[0] - end[0])**2 + (start[1] - end[1])**2))\n",
    "    midpoint = (start + end) / 2\n",
    "    # CHANGE IF CONVENTION CHANGES; negated theta\n",
    "    theta = -np.degrees(np.arctan((start[1] - end[1]) / (start[0] - end[0])) if start[0] != end[0] else 90)\n",
    "    return line(length, midpoint, thickness, theta, grid_size, noisy=noisy)\n",
    "\n",
    "def circle(radius, center, thickness, grid_size, noisy=False):\n",
    "    if center is None:\n",
    "        stretch_padding = (GRID_SIZE//2-1)/(1 + MAX_STRETCH)\n",
    "        center = get_random_center(lower_bound=-stretch_padding+thickness+radius, upper_bound=stretch_padding-thickness-radius)\n",
    "    plus_epsilon = 2*radius*thickness - thickness**2 # (r+thickness)^2 - r^2\n",
    "    minus_epsilon = 2*radius*thickness - thickness**2 # r^2 - (r - thickness)^2\n",
    "    grid_center = np.array([grid_size//2, grid_size//2])\n",
    "    grid = np.zeros((grid_size, grid_size))\n",
    "    xx, yy = np.mgrid[-grid_size//2:grid_size//2, -grid_size//2:grid_size//2]\n",
    "    zero_dists = xx**2 + yy**2\n",
    "    points = np.argwhere(np.logical_and(zero_dists > radius**2 - minus_epsilon, zero_dists < radius**2 + plus_epsilon))\n",
    "    points -= (GRID_SIZE//2) * np.ones((len(points), 2)).astype('int32')\n",
    "    \n",
    "    if noisy:\n",
    "        stretched_points = stretch(points)\n",
    "    else:\n",
    "        stretched_points = points\n",
    "    if noisy:\n",
    "        for pt in stretched_points:\n",
    "            grid[pt[0] + center[1] + get_additive_noise()][pt[1]+center[0]+get_additive_noise()] = 1\n",
    "    else:\n",
    "        for pt in stretched_points:\n",
    "            grid[pt[0] + center[1]][pt[1]+center[0]] = 1\n",
    "    return np.roll(grid, (grid_size//2, grid_size//2), axis=(0, 1))"
   ]
  },
  {
   "cell_type": "markdown",
   "metadata": {},
   "source": [
    "## Composite Geometric Shapes\n",
    "\n",
    "Plus, arrow, triangle"
   ]
  },
  {
   "cell_type": "code",
   "execution_count": 1029,
   "metadata": {},
   "outputs": [],
   "source": [
    "def plus_mask(size, center, thickness, theta, grid_size, noisy=False):\n",
    "    if center is None:\n",
    "        center = get_random_center(size, size)\n",
    "    if noisy:\n",
    "        horizontal = line(size, center + np.array([get_additive_noise(), get_additive_noise()]), thickness, 0, grid_size, noisy=noisy)\n",
    "        vertical = line(size, center + np.array([get_additive_noise(), get_additive_noise()]), thickness, 90, grid_size, noisy=noisy)\n",
    "    else:\n",
    "        horizontal = line(size, center, thickness, 0, grid_size, noisy=noisy)\n",
    "        vertical = line(size, center, thickness, 90, grid_size, noisy=noisy)        \n",
    "    return np.logical_or(horizontal, vertical)\n",
    "\n",
    "def arrow(size, center, thickness, theta, grid_size, noisy=False):\n",
    "    # Allow for arbitrary centers to add to background data and be more robust against false positives\n",
    "    # default points downwards\n",
    "    if center is None:\n",
    "        center = get_random_center(size, size)\n",
    "    grid = line(size, center, thickness, 90, grid_size, noisy=noisy)\n",
    "    OTHER_LINE_RATIO, ENDPOINT_NOISE_RATIO = 0.4, 10\n",
    "    other_size = OTHER_LINE_RATIO*size\n",
    "    if noisy:\n",
    "        left_line = line_endpoint(center+np.array([0, size/2]),\n",
    "                              center+np.array([-other_size/2+get_additive_noise()*ENDPOINT_NOISE_RATIO,\n",
    "                                               -other_size*(1-np.sqrt(3)/2) + get_additive_noise()*ENDPOINT_NOISE_RATIO]),\n",
    "                             thickness, grid_size)\n",
    "        right_line = line_endpoint(center+np.array([0, size/2]),\n",
    "                              center+np.array([other_size/2+get_additive_noise()*ENDPOINT_NOISE_RATIO,\n",
    "                                               -other_size*(1-np.sqrt(3)/2) + get_additive_noise()*ENDPOINT_NOISE_RATIO]),\n",
    "                              thickness, grid_size)\n",
    "    else:\n",
    "        left_line = line_endpoint(center+np.array([0, size/2]),\n",
    "                              center+np.array([-other_size/2,\n",
    "                                               -other_size*(1-np.sqrt(3)/2)]),\n",
    "                             thickness, grid_size)\n",
    "        right_line = line_endpoint(center+np.array([0, size/2]),\n",
    "                              center+np.array([other_size/2,\n",
    "                                               -other_size*(1-np.sqrt(3)/2)]),\n",
    "                              thickness, grid_size)\n",
    "    points = np.argwhere(np.logical_or(grid, np.logical_or(left_line, right_line)))\n",
    "    demean_matrix = np.array([\n",
    "        [center[1] + grid_size//2, 0],\n",
    "        [0, center[0] + grid_size//2]\n",
    "    ])\n",
    "    points_demeaned = points - np.ones((len(points), 2)).dot(demean_matrix)\n",
    "    rotated_demeaned = rotate(points_demeaned, theta, noisy=noisy)\n",
    "    grid = np.zeros((grid_size, grid_size))\n",
    "    for pt in rotated_demeaned:\n",
    "        grid[pt[0] + center[1]][pt[1] + center[0]] = 1 # argwhere gives points as y, x; not x, y\n",
    "    return np.roll(grid, (grid_size//2, grid_size//2), axis=(1, 0))"
   ]
  },
  {
   "cell_type": "markdown",
   "metadata": {},
   "source": [
    "## Circuit Elements\n",
    "\n",
    "Voltage sources, current sources, resistors, capacitors"
   ]
  },
  {
   "cell_type": "code",
   "execution_count": 1079,
   "metadata": {},
   "outputs": [],
   "source": [
    "def voltage_source_mask(size, center, thickness, theta, grid_size, noisy=False):\n",
    "    SIZE_RATIO, OFFSET_RATIO = constrain(gauss(0.5, 0.1), 0.15, 0.85), constrain(gauss(0.3, 0.05), 0.15, 0.45)\n",
    "    # defaults to vertical, with + facing down\n",
    "    if center is None:\n",
    "        stretch_padding = (GRID_SIZE//2-1)/(1 + MAX_STRETCH)\n",
    "        center = get_random_center(lower_bound=-stretch_padding+thickness+size, upper_bound=stretch_padding-thickness-size)\n",
    "    if noisy:\n",
    "        theta += get_random_rotation()\n",
    "    grid = circle(size, center, thickness, grid_size, noisy=noisy)\n",
    "    grid = np.logical_or(grid,\n",
    "                         plus_mask(size,\n",
    "                                   center+np.array([get_additive_noise(), get_additive_noise() + int(OFFSET_RATIO*size)]),\n",
    "                                   thickness, theta, grid_size, noisy=noisy))\n",
    "    grid = np.logical_or(grid,\n",
    "                         line(size,\n",
    "                              center-np.array([get_additive_noise(), get_additive_noise() + int(OFFSET_RATIO*size)]),\n",
    "                              thickness, 0, grid_size, noisy=noisy))\n",
    "    points = np.argwhere(grid)\n",
    "    demean_matrix = np.array([\n",
    "        [center[1] + grid_size//2, 0],\n",
    "        [0, center[0] + grid_size//2]\n",
    "    ])\n",
    "    points_demeaned = points - np.ones((len(points), 2)).dot(demean_matrix)\n",
    "    rotated_demeaned = rotate(points_demeaned, theta, noisy=noisy)\n",
    "    grid = np.zeros((grid_size, grid_size))\n",
    "    for pt in rotated_demeaned:\n",
    "        grid[pt[0] + center[1]][pt[1] + center[0]] = 1 # argwhere gives points as y, x; not x, y\n",
    "    return np.roll(grid, (grid_size//2, grid_size//2), axis=(1, 0))\n",
    "\n",
    "def current_source_mask(size, center, thickness, theta, grid_size, noisy=False):\n",
    "    if center is None:\n",
    "        stretch_padding = (GRID_SIZE//2-1)/(1 + MAX_STRETCH)\n",
    "        center = get_random_center(lower_bound=-stretch_padding+thickness+size, upper_bound=stretch_padding-thickness-size)\n",
    "    if noisy:\n",
    "        theta += get_random_rotation()\n",
    "    grid = circle(size, center, thickness, grid_size, noisy=noisy)\n",
    "    SIZE_RATIO, OFFSET_RATIO = constrain(gauss(0.5, 0.1), 0.15, 0.85), constrain(gauss(0.3, 0.05), 0.15, 0.45)\n",
    "    grid = np.logical_or(grid,\n",
    "                         plus_mask(size*SIZE_RATIO,\n",
    "                                   center+np.array([get_additive_noise(), get_additive_noise() + int(OFFSET_RATIO*size)]),\n",
    "                                   thickness, grid_size, noisy=noisy))\n",
    "    grid = np.logical_or(grid,\n",
    "                         line(size*SIZE_RATIO,\n",
    "                              center-np.array([get_additive_noise(), get_additive_noise() + int(OFFSET_RATIO*size)]),\n",
    "                              thickness, theta, grid_size, noisy=noisy))\n",
    "    points = np.argwhere(grid)\n",
    "    demean_matrix = np.array([\n",
    "        [center[1] + grid_size//2, 0],\n",
    "        [0, center[0] + grid_size//2]\n",
    "    ])\n",
    "    points_demeaned = points - np.ones((len(points), 2)).dot(demean_matrix)\n",
    "    rotated_demeaned = rotate(points_demeaned, theta, noisy=noisy)\n",
    "    grid = np.zeros((grid_size, grid_size))\n",
    "    for pt in rotated_demeaned:\n",
    "        grid[pt[0] + center[1]][pt[1] + center[0]] = 1 # argwhere gives points as y, x; not x, y\n",
    "    return np.roll(grid, (grid_size//2, grid_size//2), axis=(1, 0))"
   ]
  },
  {
   "cell_type": "code",
   "execution_count": null,
   "metadata": {},
   "outputs": [],
   "source": [
    "SIZE_RATIO, OFFSET_RATIO = constrain(gauss(0.5, 0.1), 0.15, 0.85), constrain(gauss(0.3, 0.05), 0.15, 0.45)\n",
    "def source_mask(size, center, thickness, theta, grid_size, source_func, noisy=False):\n",
    "    \"\"\"\n",
    "    source_func takes the rest of the parameters and returns a grid to overlay onto the source\n",
    "    \"\"\"\n",
    "    print(size)\n",
    "    print(SIZE_RATIO)\n",
    "    # defaults to vertical, facing down\n",
    "    if center is None:\n",
    "        stretch_padding = (GRID_SIZE//2-1)/(1 + MAX_STRETCH)\n",
    "        center = get_random_center(lower_bound=-stretch_padding+thickness+size, upper_bound=stretch_padding-thickness-size)\n",
    "    if noisy:\n",
    "        theta += get_random_rotation()\n",
    "    grid = circle(size, center, thickness, grid_size, noisy=noisy)\n",
    "    grid = np.logical_or(grid,\n",
    "                         source_func(size*SIZE_RATIO,\n",
    "                                   center+np.array([get_additive_noise(), get_additive_noise() + int(OFFSET_RATIO*size)]),\n",
    "                                   thickness, theta, grid_size, noisy=noisy))\n",
    "    points = np.argwhere(grid)\n",
    "    demean_matrix = np.array([\n",
    "        [center[1] + grid_size//2, 0],\n",
    "        [0, center[0] + grid_size//2]\n",
    "    ])\n",
    "    points_demeaned = points - np.ones((len(points), 2)).dot(demean_matrix)\n",
    "    rotated_demeaned = rotate(points_demeaned, theta, noisy=noisy)\n",
    "    grid = np.zeros((grid_size, grid_size))\n",
    "    for pt in rotated_demeaned:\n",
    "        grid[pt[0] + center[1]][pt[1] + center[0]] = 1 # argwhere gives points as y, x; not x, y\n",
    "    return np.roll(grid, (grid_size//2, grid_size//2), axis=(1, 0))\n",
    "\n",
    "def voltage_source_func(size, center, thickness, theta, grid_size, noisy=False):\n",
    "    print(size)\n",
    "    if noisy:\n",
    "        return np.logical_or(plus_mask(size,\n",
    "                                   center+np.array([get_additive_noise(), get_additive_noise() + int(OFFSET_RATIO*size)]),\n",
    "                                   thickness, theta, grid_size, noisy=noisy),\n",
    "                            line(size,\n",
    "                              center-np.array([get_additive_noise(), get_additive_noise() + int(OFFSET_RATIO*size)]),\n",
    "                              thickness, theta, grid_size, noisy=noisy))\n",
    "    else:\n",
    "        return np.logical_or(plus_mask(size,\n",
    "                                   center+np.array([0, int(OFFSET_RATIO*size)]),\n",
    "                                   thickness, theta, grid_size, noisy=noisy),\n",
    "                            line(size,\n",
    "                              center-np.array([0, int(OFFSET_RATIO*size)]),\n",
    "                              thickness, theta, grid_size, noisy=noisy))\n",
    "\n",
    "def voltage_source_mask(size, center, thickness, theta, grid_size, noisy=False):\n",
    "    #return source_mask(size, center, thickness, theta, grid_size, voltage_source_func, noisy=noisy)\n",
    "    # defaults to vertical, with + facing down\n",
    "    if center is None:\n",
    "        stretch_padding = (GRID_SIZE//2-1)/(1 + MAX_STRETCH)\n",
    "        center = get_random_center(lower_bound=-stretch_padding+thickness+size, upper_bound=stretch_padding-thickness-size)\n",
    "    if noisy:\n",
    "        theta += get_random_rotation()\n",
    "    grid = circle(size, center, thickness, grid_size, noisy=noisy)\n",
    "    grid = np.logical_or(grid,\n",
    "                         plus_mask(size,\n",
    "                                   center+np.array([get_additive_noise(), get_additive_noise() + int(OFFSET_RATIO*size)]),\n",
    "                                   thickness, grid_size, noisy=noisy))\n",
    "    grid = np.logical_or(grid,\n",
    "                         line(size,\n",
    "                              center-np.array([get_additive_noise(), get_additive_noise() + int(OFFSET_RATIO*size)]),\n",
    "                              thickness, 0, grid_size, noisy=noisy))\n",
    "    points = np.argwhere(grid)\n",
    "    demean_matrix = np.array([\n",
    "        [center[1] + grid_size//2, 0],\n",
    "        [0, center[0] + grid_size//2]\n",
    "    ])\n",
    "    points_demeaned = points - np.ones((len(points), 2)).dot(demean_matrix)\n",
    "    rotated_demeaned = rotate(points_demeaned, theta, noisy=noisy)\n",
    "    grid = np.zeros((grid_size, grid_size))\n",
    "    for pt in rotated_demeaned:\n",
    "        grid[pt[0] + center[1]][pt[1] + center[0]] = 1 # argwhere gives points as y, x; not x, y\n",
    "    return np.roll(grid, (grid_size//2, grid_size//2), axis=(1, 0))\n",
    "\n",
    "def current_source_mask(size, center, thickness, theta, grid_size, noisy=False):\n",
    "    if center is None:\n",
    "        stretch_padding = (GRID_SIZE//2-1)/(1 + MAX_STRETCH)\n",
    "        center = get_random_center(lower_bound=-stretch_padding+thickness+size, upper_bound=stretch_padding-thickness-size)\n",
    "    if noisy:\n",
    "        theta += get_random_rotation()\n",
    "    grid = circle(size, center, thickness, grid_size, noisy=noisy)\n",
    "    SIZE_RATIO, OFFSET_RATIO = constrain(gauss(0.5, 0.1), 0.15, 0.85), constrain(gauss(0.3, 0.05), 0.15, 0.45)\n",
    "    grid = np.logical_or(grid,\n",
    "                         plus_mask(size*SIZE_RATIO,\n",
    "                                   center+np.array([get_additive_noise(), get_additive_noise() + int(OFFSET_RATIO*size)]),\n",
    "                                   thickness, grid_size, noisy=noisy))\n",
    "    grid = np.logical_or(grid,\n",
    "                         line(size*SIZE_RATIO,\n",
    "                              center-np.array([get_additive_noise(), get_additive_noise() + int(OFFSET_RATIO*size)]),\n",
    "                              thickness, theta, grid_size, noisy=noisy))\n",
    "    points = np.argwhere(grid)\n",
    "    demean_matrix = np.array([\n",
    "        [center[1] + grid_size//2, 0],\n",
    "        [0, center[0] + grid_size//2]\n",
    "    ])\n",
    "    points_demeaned = points - np.ones((len(points), 2)).dot(demean_matrix)\n",
    "    rotated_demeaned = rotate(points_demeaned, theta, noisy=noisy)\n",
    "    grid = np.zeros((grid_size, grid_size))\n",
    "    for pt in rotated_demeaned:\n",
    "        grid[pt[0] + center[1]][pt[1] + center[0]] = 1 # argwhere gives points as y, x; not x, y\n",
    "    return np.roll(grid, (grid_size//2, grid_size//2), axis=(1, 0))"
   ]
  },
  {
   "cell_type": "code",
   "execution_count": 1031,
   "metadata": {},
   "outputs": [
    {
     "data": {
      "image/png": "[encoded data removed]",
      "text/plain": [
       "<Figure size 432x288 with 1 Axes>"
      ]
     },
     "metadata": {
      "needs_background": "light"
     },
     "output_type": "display_data"
    }
   ],
   "source": [
    "arr = arrow(GRID_SIZE//5, None, GRID_SIZE//100, 0, GRID_SIZE, True)\n",
    "plt.imshow(arr)\n",
    "plt.show()"
   ]
  },
  {
   "cell_type": "code",
   "execution_count": 1085,
   "metadata": {},
   "outputs": [
    {
     "data": {
      "text/plain": [
       "<matplotlib.image.AxesImage at 0x1d110919cf8>"
      ]
     },
     "execution_count": 1085,
     "metadata": {},
     "output_type": "execute_result"
    },
    {
     "data": {
      "image/png": "[encoded data removed]",
      "text/plain": [
       "<Figure size 432x288 with 1 Axes>"
      ]
     },
     "metadata": {
      "needs_background": "light"
     },
     "output_type": "display_data"
    }
   ],
   "source": [
    "GRID_SIZE=1000\n",
    "v = voltage_source_mask(GRID_SIZE//5, None, GRID_SIZE//100, 0, GRID_SIZE, True)\n",
    "plt.imshow(v)"
   ]
  },
  {
   "cell_type": "code",
   "execution_count": 153,
   "metadata": {},
   "outputs": [
    {
     "data": {
      "text/plain": [
       "array([[9, 7, 8],\n",
       "       [3, 1, 2],\n",
       "       [6, 4, 5]])"
      ]
     },
     "execution_count": 153,
     "metadata": {},
     "output_type": "execute_result"
    }
   ],
   "source": [
    "x = np.array([[1, 2, 3],\n",
    "             [4, 5, 6],\n",
    "             [7, 8, 9]])\n",
    "np.roll(x, (1, 1), axis=(0, 1))"
   ]
  }
 ],
 "metadata": {
  "kernelspec": {
   "display_name": "Python 3",
   "language": "python",
   "name": "python3"
  },
  "language_info": {
   "codemirror_mode": {
    "name": "ipython",
    "version": 3
   },
   "file_extension": ".py",
   "mimetype": "text/x-python",
   "name": "python",
   "nbconvert_exporter": "python",
   "pygments_lexer": "ipython3",
   "version": "3.6.5"
  }
 },
 "nbformat": 4,
 "nbformat_minor": 2
}
