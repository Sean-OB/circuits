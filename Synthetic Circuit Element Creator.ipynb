{
 "cells": [
  {
   "cell_type": "code",
   "execution_count": 418,
   "metadata": {},
   "outputs": [],
   "source": [
    "import numpy as np\n",
    "import matplotlib.pyplot as plt\n",
    "import random, time"
   ]
  },
  {
   "cell_type": "markdown",
   "metadata": {},
   "source": [
    "#### Plan\n",
    "\n",
    "Elements: voltage source\n",
    "\n",
    "Meaningful variables: rotation, position\n",
    "\n",
    "Noise: rotation of orientation, stretching of shape, etc.\n",
    "\n",
    "Rest of background must be randomly generated and uniformly distributed, but same density as the image (maybe generate random lines and shapes)\n",
    "\n",
    "#### Implementation\n",
    "\n",
    "Each shape stored as a one mask; then just bitwise or each mask together with a zeros array"
   ]
  },
  {
   "cell_type": "markdown",
   "metadata": {},
   "source": [
    "## Random Number Generation + General Parameters"
   ]
  },
  {
   "cell_type": "code",
   "execution_count": 617,
   "metadata": {},
   "outputs": [],
   "source": [
    "GRID_SIZE = 1000\n",
    "CENTER_NOISE_STD_PROPORTION = 0.4\n",
    "ROT_NOISE_STD = 6\n",
    "STRETCH_STD = 0.1\n",
    "MIN_STRETCH, MAX_STRETCH = -0.4, 0.4\n",
    "ADDITIVE_STD = GRID_SIZE / 500\n",
    "\n",
    "def get_random_center(lower_padding=0, upper_padding=0, lower_bound=None, upper_bound=None):\n",
    "    #x, y = random.uniform(0, CENTER_NOISE_STD_PROPORTION*GRID_SIZE), random.gauss(0, CENTER_NOISE_STD_PROPORTION*GRID_SIZE)\n",
    "    if lower_bound is None and upper_bound is None:\n",
    "        lower_bound, upper_bound = -GRID_SIZE//2+1+lower_padding, GRID_SIZE//2-1-upper_padding\n",
    "    x, y = random.uniform(lower_bound, upper_bound), random.uniform(lower_bound, upper_bound)\n",
    "    return np.round(np.array([x, y])).astype('int32')\n",
    "    #x, y = constrain(x, lower_bound, upper_bound), constrain(y, lower_bound, upper_bound)\n",
    "    #return np.round(np.array([x, y])).astype('int32')\n",
    "def get_random_rotation(lower_bound=-90, upper_bound =90):\n",
    "    # Range from -90 to 90\n",
    "    return constrain(random.gauss(0, ROT_NOISE_STD), lower_bound, upper_bound)\n",
    "def get_random_stretch(lower_bound=MIN_STRETCH, upper_bound=MAX_STRETCH):\n",
    "    return 1 + constrain(random.gauss(0, STRETCH_STD), lower_bound, upper_bound)\n",
    "def get_additive_noise():\n",
    "    return int(random.gauss(0, ADDITIVE_STD))\n",
    "\n",
    "constrain = lambda val, lower, upper: max(lower, min(upper, val))"
   ]
  },
  {
   "cell_type": "markdown",
   "metadata": {},
   "source": [
    "## Basic Geometric Shapes"
   ]
  },
  {
   "cell_type": "code",
   "execution_count": 679,
   "metadata": {},
   "outputs": [],
   "source": [
    "def rotate(points, theta, noisy=False):\n",
    "    \"\"\"\n",
    "    Inputs:\n",
    "        points - an nx2 NumPy vector, in which each entry is an (x, y) pair\n",
    "        theta - degrees by which to rotate\n",
    "    \"\"\"\n",
    "    theta = -theta # CHANGE IF CHANGING IMAGE CONVENTION\n",
    "    if noisy:\n",
    "        theta += get_random_rotation()\n",
    "    theta = np.radians(theta)\n",
    "    rotation_matrix = np.array([\n",
    "        [np.cos(theta), -np.sin(theta)],\n",
    "        [np.sin(theta), np.cos(theta)]\n",
    "    ])\n",
    "    result = np.round(rotation_matrix.dot(points.T).T).astype('int32')    \n",
    "    return result\n",
    "\n",
    "def rotate_spreads(x_spread, y_spread, theta):\n",
    "    stretch_arr = np.array([[x_spread, 0],\n",
    "                           [0, y_spread]])\n",
    "    return tuple(np.max(rotate(stretch_arr, theta, noisy=False), axis=1))\n",
    "\n",
    "def stretch(points, x_factor=None, y_factor=None, get_box=False):\n",
    "    if x_factor is None and y_factor is None:\n",
    "        x_factor = get_random_stretch()\n",
    "        y_factor = get_random_stretch()\n",
    "    stretch_matrix = np.array([\n",
    "        [x_factor, 0],\n",
    "        [0, y_factor]\n",
    "    ])\n",
    "    result = np.round(stretch_matrix.dot(points.T).T).astype('int32')\n",
    "    if get_box:\n",
    "        return np.array([y_factor, x_factor]), result\n",
    "    return result\n",
    "\n",
    "def line(length, center, thickness, theta, grid_size, noisy=False):\n",
    "    \"\"\"\n",
    "    Inputs:\n",
    "        length: overall length of the line, endpoint to endpoint\n",
    "        theta: counterclockwise angle (degrees) by which the line is rotated\n",
    "        center: midpoint of the line\n",
    "        thickness: line is 2*thickness - 1 pixels thick\n",
    "    \"\"\"\n",
    "    center = center.astype('int32')\n",
    "    if center is None:\n",
    "        center = get_random_center(length, length)\n",
    "    grid = np.zeros((grid_size, grid_size))\n",
    "    points = np.array([[x, y] for x in range(int(-length//2), int(length//2)+1) for y in range(-thickness+1, thickness)])\n",
    "    points = rotate(points, theta, noisy=noisy)\n",
    "    if noisy:\n",
    "        for pt in points:\n",
    "            grid[pt[1] + center[1] + get_additive_noise()][pt[0] + center[0] + get_additive_noise()] = 1\n",
    "    else:\n",
    "        for pt in points:\n",
    "            grid[pt[1] + center[1]][pt[0] + center[0]] = 1\n",
    "    return np.roll(grid, (grid_size//2+1, grid_size//2+1), axis=(0, 1))\n",
    "\n",
    "def line_endpoint(start, end, thickness, grid_size, noisy=False):\n",
    "    print(start, end)\n",
    "    length = int(np.sqrt((start[0] - end[0])**2 + (start[1] - end[1])**2))\n",
    "    midpoint = (start + end) / 2\n",
    "    # CHANGE IF CONVENTION CHANGES; negated theta\n",
    "    theta = -np.degrees(np.arctan((start[1] - end[1]) / (start[0] - end[0])) if start[0] != end[0] else np.pi/2)\n",
    "    return line(length, midpoint, thickness, theta, grid_size, noisy=noisy)\n",
    "\n",
    "def circle(radius, center, thickness, theta, grid_size, noisy=False, get_box=False):\n",
    "    \"\"\"\n",
    "    Theta is actually useless here. BUT it makes it conform to the interface for the rest of the functions\n",
    "    \"\"\"\n",
    "    if center is None:\n",
    "        stretch_padding = (grid_size//2-1)/(1 + MAX_STRETCH)\n",
    "        center = get_random_center(lower_bound=-stretch_padding+thickness+radius, upper_bound=stretch_padding-thickness-radius)\n",
    "    plus_epsilon = 2*radius*thickness - thickness**2 # (r+thickness)^2 - r^2\n",
    "    minus_epsilon = 2*radius*thickness - thickness**2 # r^2 - (r - thickness)^2\n",
    "    grid_center = np.array([grid_size//2, grid_size//2])\n",
    "    grid = np.zeros((grid_size, grid_size))\n",
    "    xx, yy = np.mgrid[-grid_size//2:grid_size//2, -grid_size//2:grid_size//2]\n",
    "    zero_dists = xx**2 + yy**2\n",
    "    points = np.argwhere(np.logical_and(zero_dists > radius**2 - minus_epsilon, zero_dists < radius**2 + plus_epsilon))\n",
    "    points -= (grid_size//2) * np.ones((len(points), 2)).astype('int32')\n",
    "    \n",
    "    if noisy:\n",
    "        if get_box:\n",
    "            stretch_factors, stretched_points = stretch(points, get_box=get_box)\n",
    "        else:\n",
    "            stretched_points = stretch(points, get_box=get_box)\n",
    "        for pt in stretched_points:\n",
    "            grid[pt[0] + center[1] + get_additive_noise()][pt[1]+center[0]+get_additive_noise()] = 1\n",
    "    else:\n",
    "        for pt in points:\n",
    "            grid[pt[0] + center[1]][pt[1]+center[0]] = 1\n",
    "    result = np.roll(grid, (grid_size//2, grid_size//2), axis=(0, 1))\n",
    "    if get_box:\n",
    "        #print(stretch_factors)\n",
    "        return 2*radius*stretch_factors, result # return max x_width, y_width\n",
    "    return result"
   ]
  },
  {
   "cell_type": "markdown",
   "metadata": {},
   "source": [
    "## Composite Geometric Shapes\n",
    "\n",
    "Plus, arrow, triangle"
   ]
  },
  {
   "cell_type": "code",
   "execution_count": 619,
   "metadata": {},
   "outputs": [],
   "source": [
    "def plus_mask(size, center, thickness, theta, grid_size, noisy=False):\n",
    "    if center is None:\n",
    "        center = get_random_center(size, size)\n",
    "    if noisy:\n",
    "        horizontal = line(size, center + np.array([get_additive_noise(), get_additive_noise()]), thickness, 0, grid_size, noisy=noisy)\n",
    "        vertical = line(size, center + np.array([get_additive_noise(), get_additive_noise()]), thickness, 90, grid_size, noisy=noisy)\n",
    "    else:\n",
    "        horizontal = line(size, center, thickness, 0, grid_size, noisy=noisy)\n",
    "        vertical = line(size, center, thickness, 90, grid_size, noisy=noisy)        \n",
    "    return np.logical_or(horizontal, vertical)\n",
    "\n",
    "def arrow(size, center, thickness, theta, grid_size, noisy=False):\n",
    "    # Allow for arbitrary centers to add to background data and be more robust against false positives\n",
    "    # default points downwards\n",
    "    if center is None:\n",
    "        center = get_random_center(size, size)\n",
    "    grid = line(size, center, thickness, 90, grid_size, noisy=noisy)\n",
    "    OTHER_LINE_RATIO, ENDPOINT_NOISE_RATIO = 0.4, 10\n",
    "    other_size = OTHER_LINE_RATIO*size\n",
    "    if noisy:\n",
    "        left_line = line_endpoint(center+np.array([0, size/2]),\n",
    "                              center+np.array([-other_size/2+get_additive_noise()*ENDPOINT_NOISE_RATIO,\n",
    "                                               -other_size*(1-np.sqrt(3)/2) + get_additive_noise()*ENDPOINT_NOISE_RATIO]),\n",
    "                             thickness, grid_size)\n",
    "        right_line = line_endpoint(center+np.array([0, size/2]),\n",
    "                              center+np.array([other_size/2+get_additive_noise()*ENDPOINT_NOISE_RATIO,\n",
    "                                               -other_size*(1-np.sqrt(3)/2) + get_additive_noise()*ENDPOINT_NOISE_RATIO]),\n",
    "                              thickness, grid_size)\n",
    "    else:\n",
    "        left_line = line_endpoint(center+np.array([0, size/2]),\n",
    "                              center+np.array([-other_size/2,\n",
    "                                               -other_size*(1-np.sqrt(3)/2)]),\n",
    "                             thickness, grid_size)\n",
    "        right_line = line_endpoint(center+np.array([0, size/2]),\n",
    "                              center+np.array([other_size/2,\n",
    "                                               -other_size*(1-np.sqrt(3)/2)]),\n",
    "                              thickness, grid_size)\n",
    "    points = np.argwhere(np.logical_or(grid, np.logical_or(left_line, right_line)))\n",
    "    demean_matrix = np.array([\n",
    "        [center[1] + grid_size//2, 0],\n",
    "        [0, center[0] + grid_size//2]\n",
    "    ])\n",
    "    points_demeaned = points - np.ones((len(points), 2)).dot(demean_matrix)\n",
    "    rotated_demeaned = rotate(points_demeaned, theta, noisy=noisy)\n",
    "    grid = np.zeros((grid_size, grid_size))\n",
    "    for pt in rotated_demeaned:\n",
    "        grid[pt[0] + center[1]][pt[1] + center[0]] = 1 # argwhere gives points as y, x; not x, y\n",
    "    return np.roll(grid, (grid_size//2, grid_size//2), axis=(1, 0))"
   ]
  },
  {
   "cell_type": "markdown",
   "metadata": {},
   "source": [
    "## Circuit Elements\n",
    "\n",
    "Voltage sources, current sources, resistors, capacitors"
   ]
  },
  {
   "cell_type": "code",
   "execution_count": 719,
   "metadata": {},
   "outputs": [],
   "source": [
    "def source_mask(size, center, thickness, theta, grid_size, source_func, noisy=False, get_box=False):\n",
    "    \"\"\"\n",
    "    source_func takes the rest of the parameters and returns a grid to overlay onto the source\n",
    "    \"\"\"\n",
    "    # defaults to vertical, facing down\n",
    "    if center is None:\n",
    "        stretch_padding = (GRID_SIZE//2-1)/(1 + MAX_STRETCH)\n",
    "        center = get_random_center(lower_bound=-stretch_padding+thickness+size, upper_bound=stretch_padding-thickness-size)\n",
    "    if noisy:\n",
    "        theta += get_random_rotation()\n",
    "    if get_box:\n",
    "        widths, grid = circle(size, center, thickness, theta, grid_size, noisy=noisy, get_box=get_box)\n",
    "    else:\n",
    "        grid = circle(size, center, thickness, theta, grid_size, noisy=noisy, get_box=get_box)\n",
    "    grid = np.logical_or(grid,\n",
    "                         source_func(size,\n",
    "                                   center+np.array([get_additive_noise(), get_additive_noise()]),\n",
    "                                   thickness, theta, grid_size, noisy=noisy))\n",
    "    points = np.argwhere(grid)\n",
    "    demean_matrix = np.array([\n",
    "        [center[1] + grid_size//2, 0],\n",
    "        [0, center[0] + grid_size//2]\n",
    "    ])\n",
    "    points_demeaned = points - np.ones((len(points), 2)).dot(demean_matrix)\n",
    "    rotated_demeaned = rotate(points_demeaned, theta, noisy=noisy)\n",
    "    grid = np.zeros((grid_size, grid_size))\n",
    "    for pt in rotated_demeaned:\n",
    "        grid[pt[0] + center[1]][pt[1] + center[0]] = 1 # argwhere gives points as y, x; not x, y\n",
    "    result = np.roll(grid, (grid_size//2, grid_size//2), axis=(1, 0))\n",
    "    if get_box:\n",
    "        max_factor = np.max(widths)\n",
    "        return np.array([center[0]+grid_size//2, center[1]+grid_size//2, max_factor, max_factor]), result\n",
    "    return result\n",
    "\n",
    "def voltage_source_func(size, center, thickness, theta, grid_size, noisy=False):\n",
    "    SIZE_RATIO, OFFSET_RATIO = constrain(random.gauss(0.7, 0.1), 0.15, 0.85), constrain(random.gauss(0.3, 0.1), 0.2, 0.4)\n",
    "    if noisy:\n",
    "        return np.logical_or(plus_mask(size*SIZE_RATIO,\n",
    "                                   center+np.array([get_additive_noise(), get_additive_noise() + int(OFFSET_RATIO*size)]),\n",
    "                                   thickness, 0, grid_size, noisy=noisy),\n",
    "                            line(size*SIZE_RATIO,\n",
    "                              center+np.array([get_additive_noise(), get_additive_noise() - \\\n",
    "                                               constrain(random.gauss(1.5, 0.3), 0.75, 2.25)*int(OFFSET_RATIO*size)]),\n",
    "                              thickness, 0, grid_size, noisy=noisy))\n",
    "    else:\n",
    "        return np.logical_or(plus_mask(size,\n",
    "                                   center+np.array([0, int(OFFSET_RATIO*size)]),\n",
    "                                   thickness, theta, grid_size, noisy=noisy),\n",
    "                            line(size,\n",
    "                              center-np.array([0, int(OFFSET_RATIO*size)]),\n",
    "                              thickness, theta, grid_size, noisy=noisy))\n",
    "\n",
    "def current_source_func(size, center, thickness, theta, grid_size, noisy=False):\n",
    "    SIZE_RATIO, OFFSET_RATIO = constrain(random.gauss(0.5, 0.1), 0.15, 0.85), constrain(random.gauss(0, 0.1), -0.1, 0.1)\n",
    "    if noisy:\n",
    "        return arrow(size, center+np.array([get_additive_noise(), get_additive_noise() + int(OFFSET_RATIO*size)]),\n",
    "                    thickness, 0, grid_size, noisy=noisy)\n",
    "    else:\n",
    "        return arrow(size, center+np.array([get_additive_noise(), get_additive_noise() + int(OFFSET_RATIO*size)]),\n",
    "                    thickness, 0, grid_size, noisy=noisy)\n",
    "def voltage_source_mask(size, center, thickness, theta, grid_size, noisy=False, get_box=False):\n",
    "    return source_mask(size, center, thickness, theta, grid_size, voltage_source_func, noisy=noisy, get_box=get_box)\n",
    "\n",
    "def current_source_mask(size, center, thickness, theta, grid_size, noisy=False, get_box=False):\n",
    "    return source_mask(size, center, thickness, theta, grid_size, current_source_func, noisy=noisy, get_box=get_box)\n",
    "\n",
    "def capacitor(size, center, thickness, theta, grid_size, noisy=False, get_box=False):\n",
    "    # default is vertical (capacitor plates parallel to x axis)\n",
    "    assert size > thickness, 'Draw thinner lines or make the capacitor larger!'\n",
    "    GAP_RATIO = constrain(random.gauss(0.3, 0.1), 0.05, 0.5)\n",
    "    gap = (size - thickness) * random.random() * GAP_RATIO + thickness\n",
    "    if center is None:\n",
    "        center = get_random_center(size+2*(gap+thickness), size+2*(gap+thickness))\n",
    "    top_center = center + np.array([0, -gap]) + (np.array([get_additive_noise(), get_additive_noise()]) if noisy else 0)\n",
    "    bottom_center = center + np.array([0, gap]) + (np.array([get_additive_noise(), get_additive_noise()]) if noisy else 0)\n",
    "    top_plate = line(size, top_center, thickness, 0, grid_size, noisy=noisy)\n",
    "    bottom_plate = line(size, bottom_center, thickness, 0, grid_size, noisy=noisy)\n",
    "    top_wire = line_endpoint(top_center, top_center-np.array([0, 0.6*(size-gap-2*thickness)]),\n",
    "                             thickness, grid_size, noisy=noisy)\n",
    "    bottom_wire = line_endpoint(bottom_center, bottom_center+0.6*np.array([0, (size-gap-2*thickness)]),\n",
    "                                thickness, grid_size, noisy=noisy)\n",
    "    grid = np.logical_or(top_plate, bottom_plate)\n",
    "    grid = np.logical_or(grid, np.logical_or(top_wire, bottom_wire))\n",
    "    points = np.argwhere(grid)\n",
    "    demean_matrix = np.array([\n",
    "        [center[1] + grid_size//2, 0],\n",
    "        [0, center[0] + grid_size//2]\n",
    "    ])\n",
    "    points_demeaned = points - np.ones((len(points), 2)).dot(demean_matrix)\n",
    "    rotated_demeaned = rotate(points_demeaned, theta, noisy=noisy)\n",
    "    grid = np.zeros((grid_size, grid_size))\n",
    "    for pt in rotated_demeaned:\n",
    "        grid[pt[0] + center[1]][pt[1] + center[0]] = 1 # argwhere gives points as y, x; not x, y\n",
    "    if get_box:\n",
    "        theta = np.radians(theta)\n",
    "        #x_spread = int(max(1.5*size*abs(np.cos(theta)), (2*gap+2*thickness)*abs(np.sin(theta))))\n",
    "        #y_spread = int(max(1.5*size*abs(np.sin(theta)), (2*gap+2*thickness)*abs(np.cos(theta))))\n",
    "        #x_spread, y_spread = int(max(abs(total_height*np.sin(np.radians(theta))), max_x-min_x)), \\\n",
    "        #                    int(max(abs(total_height*np.cos(np.radians(theta))), max_x-min_x))\n",
    "        x_spread, y_spread = size+2*(gap+thickness), size+2*(gap+2*thickness)\n",
    "        center += grid_size//2\n",
    "        return np.array([center[0], center[1], x_spread, y_spread]), np.roll(grid, (grid_size//2, grid_size//2), axis=(1, 0))\n",
    "    return np.roll(grid, (grid_size//2, grid_size//2), axis=(1, 0))"
   ]
  },
  {
   "cell_type": "code",
   "execution_count": 720,
   "metadata": {},
   "outputs": [],
   "source": [
    "def resistor(size, center, thickness, theta, grid_size, noisy=False, get_box=False):\n",
    "    \"\"\"\n",
    "    In this case, size refers to the LENGTH of the resistor; the width is linearly related + function of # of squiggles\n",
    "    A squiggle is a single FULL spanning line; the half line at beginning and end don't count\n",
    "    Default is vertical to be consistent with others\n",
    "    \"\"\"\n",
    "    MIN_THETA, MAX_THETA = 45, 80\n",
    "    ADDITIVE_NOISE_RATIO = 5\n",
    "    MIN_SQUIGGLES, MAX_SQUIGGLES = 2, 5 # each squiggle is one half ridge\n",
    "    num_squiggles = MIN_SQUIGGLES + int(random.random() * (MAX_SQUIGGLES - MIN_SQUIGGLES))\n",
    "    height_per_squiggle = size / (num_squiggles+1)\n",
    "    grid = np.zeros((grid_size, grid_size))\n",
    "    \n",
    "    min_x, max_x = float('inf'), -float('inf')\n",
    "    \n",
    "    if noisy:\n",
    "        squiggle_heights = np.array([height_per_squiggle+get_additive_noise()*ADDITIVE_NOISE_RATIO for _ in range(num_squiggles)])\n",
    "        squiggle_heights = np.concatenate((np.array([0, (height_per_squiggle+get_additive_noise()*ADDITIVE_NOISE_RATIO)/2]),\n",
    "                                      squiggle_heights, np.array([(height_per_squiggle+get_additive_noise()*ADDITIVE_NOISE_RATIO/2)])),\n",
    "                                     axis=0)\n",
    "    else:\n",
    "        squiggle_heights = np.array([height_per_squiggle for _ in range(num_squiggles)])\n",
    "        squiggle_heights = np.concatenate((np.array([0, height_per_squiggle]),\n",
    "                                      squiggle_heights, np.array([height_per_squiggle])),\n",
    "                                     axis=0)\n",
    "    squiggle_offsets = np.cumsum(squiggle_heights)\n",
    "    total_height = squiggle_offsets[-1] + 1\n",
    "    if center is None:\n",
    "        center = get_random_center(total_height, total_height)\n",
    "    widths = []\n",
    "    for i in range(len(squiggle_heights)):\n",
    "        theta_rad = np.radians((MAX_THETA - MIN_THETA)*random.random() + MIN_THETA)\n",
    "        squiggle_inverse_slope = np.arctan(theta_rad)\n",
    "        if i % 2 == 0:\n",
    "            widths.append(squiggle_heights[i]*squiggle_inverse_slope)\n",
    "        else:\n",
    "            widths.append(-squiggle_heights[i]*squiggle_inverse_slope)\n",
    "        max_x, min_x = max(max_x, widths[-1]), min(min_x, widths[-1])\n",
    "    point_offsets = np.array([[dx, dy - total_height // 2] for dx, dy in zip(widths, squiggle_offsets)])\n",
    "    grid = np.zeros((grid_size, grid_size))\n",
    "    for i in range(len(point_offsets)-1):\n",
    "        grid = np.logical_or(grid, line_endpoint(point_offsets[i], point_offsets[i+1], thickness, grid_size, noisy=noisy))\n",
    "    points = np.argwhere(grid)\n",
    "    points_demeaned = points - grid_size//2\n",
    "    rotated = rotate(points_demeaned, theta, noisy=noisy)\n",
    "    grid = np.zeros((grid_size, grid_size))\n",
    "    for pt in rotated:\n",
    "        grid[pt[0] + center[1]][pt[1] + center[0]] = 1 # argwhere gives points as y, x; not x, y\n",
    "    if get_box:\n",
    "        x_spread, y_spread = int(max(abs(total_height*np.sin(np.radians(theta))), max_x-min_x)), \\\n",
    "                            int(max(abs(total_height*np.cos(np.radians(theta))), max_x-min_x))\n",
    "        return np.array([center[0]+grid_size//2,center[1]+grid_size//2, x_spread, y_spread]), \\\n",
    "                np.roll(grid, (grid_size//2, grid_size//2), axis=(1, 0))\n",
    "    return np.roll(grid, (grid_size//2, grid_size//2), axis=(1, 0))"
   ]
  },
  {
   "cell_type": "markdown",
   "metadata": {},
   "source": [
    "## Convenience/Visualization Functions"
   ]
  },
  {
   "cell_type": "code",
   "execution_count": 721,
   "metadata": {},
   "outputs": [],
   "source": [
    "def draw_bounding_box(img, w, epsilon=5):\n",
    "    \"\"\"\n",
    "    Mutatively draws a bounding box onto the given image\n",
    "        w is the box descriptor array\n",
    "    \"\"\"\n",
    "    GRID_SIZE = len(img)\n",
    "    central = (np.array([w[0], w[1]])).astype('int32')\n",
    "    w = w.astype('int32')\n",
    "    w = np.abs(w)\n",
    "    img[central[1]-w[3]//2:central[1]+w[3]//2, central[0]-w[2]//2-epsilon:central[0]-w[2]//2+epsilon] = 1\n",
    "    img[central[1]-w[3]//2:central[1]+w[3]//2, central[0]+w[2]//2-epsilon:central[0]+w[2]//2+epsilon] = 1\n",
    "    img[central[1]+w[3]//2-epsilon:central[1]+w[3]//2+epsilon, central[0]-w[2]//2:central[0]+w[2]//2] = 1\n",
    "    img[central[1]-w[3]//2-epsilon:central[1]-w[3]//2+epsilon, central[0]-w[2]//2:central[0]+w[2]//2] = 1"
   ]
  },
  {
   "cell_type": "code",
   "execution_count": 733,
   "metadata": {},
   "outputs": [
    {
     "name": "stdout",
     "output_type": "stream",
     "text": [
      "[   0. -120.] [-31.92849109 -80.        ]\n",
      "[-31.92849109 -80.        ] [ 37.56462948 -40.        ]\n",
      "[ 37.56462948 -40.        ] [-35.3498869   0.       ]\n",
      "[-35.3498869   0.       ] [26.68267073 40.        ]\n",
      "[26.68267073 40.        ] [-37.81183889  80.        ]\n",
      "[-37.81183889  80.        ] [ 36.37649951 120.        ]\n",
      "[687 740 154 184]\n"
     ]
    },
    {
     "data": {
      "text/plain": [
       "[]"
      ]
     },
     "execution_count": 733,
     "metadata": {},
     "output_type": "execute_result"
    },
    {
     "data": {
      "image/png": "[encoded data removed]",
      "text/plain": [
       "<Figure size 432x288 with 1 Axes>"
      ]
     },
     "metadata": {
      "needs_background": "light"
     },
     "output_type": "display_data"
    }
   ],
   "source": [
    "resw, res = resistor(GRID_SIZE//5, None, GRID_SIZE//100, 140, GRID_SIZE, noisy=False, get_box=True)\n",
    "print(resw)\n",
    "draw_bounding_box(res, resw)\n",
    "plt.imshow(res)\n",
    "plt.plot()"
   ]
  },
  {
   "cell_type": "code",
   "execution_count": 753,
   "metadata": {},
   "outputs": [
    {
     "name": "stdout",
     "output_type": "stream",
     "text": [
      "[428.         424.         427.03895805 427.03895805]\n"
     ]
    },
    {
     "data": {
      "image/png": "[encoded data removed]",
      "text/plain": [
       "<Figure size 432x288 with 1 Axes>"
      ]
     },
     "metadata": {
      "needs_background": "light"
     },
     "output_type": "display_data"
    }
   ],
   "source": [
    "GRID_SIZE=1000\n",
    "w, v = voltage_source_mask(GRID_SIZE//5, None, GRID_SIZE//100, 0, GRID_SIZE, noisy=True, get_box=True)\n",
    "print(w)\n",
    "draw_bounding_box(v, w, epsilon=5)\n",
    "plt.imshow(v)\n",
    "plt.show()"
   ]
  },
  {
   "cell_type": "code",
   "execution_count": 764,
   "metadata": {},
   "outputs": [
    {
     "name": "stdout",
     "output_type": "stream",
     "text": [
      "[-131.    1.] [-191.        -129.7179677]\n",
      "[-131.    1.] [ -91.        -109.7179677]\n",
      "[369.         406.         438.88530523 438.88530523]\n"
     ]
    },
    {
     "data": {
      "image/png": "[encoded data removed]",
      "text/plain": [
       "<Figure size 432x288 with 1 Axes>"
      ]
     },
     "metadata": {
      "needs_background": "light"
     },
     "output_type": "display_data"
    }
   ],
   "source": [
    "wcs, cs = current_source_mask(GRID_SIZE//5, None, GRID_SIZE//100, 45, GRID_SIZE, noisy=True, get_box=True)\n",
    "print(wcs)\n",
    "draw_bounding_box(cs, wcs)\n",
    "plt.imshow(cs)\n",
    "plt.show()"
   ]
  },
  {
   "cell_type": "code",
   "execution_count": 762,
   "metadata": {},
   "outputs": [
    {
     "name": "stdout",
     "output_type": "stream",
     "text": [
      "[-124.          156.58618932] [-124.           69.23447573]\n",
      "[-125.          224.41381068] [-125.          311.76552427]\n",
      "[372.         689.         288.82762137 308.82762137]\n"
     ]
    },
    {
     "data": {
      "image/png": "[encoded data removed]",
      "text/plain": [
       "<Figure size 432x288 with 1 Axes>"
      ]
     },
     "metadata": {
      "needs_background": "light"
     },
     "output_type": "display_data"
    }
   ],
   "source": [
    "capw, cap = capacitor(GRID_SIZE//5, None, GRID_SIZE//100, 0, GRID_SIZE, noisy=True, get_box=True)\n",
    "draw_bounding_box(cap, capw)\n",
    "print(capw)\n",
    "plt.imshow(cap)\n",
    "plt.show()"
   ]
  },
  {
   "cell_type": "markdown",
   "metadata": {},
   "source": [
    "### Putting it All Together\n",
    "Now we populate the grid with numerous random shapes, supplying the labels as well."
   ]
  },
  {
   "cell_type": "code",
   "execution_count": 727,
   "metadata": {},
   "outputs": [],
   "source": [
    "def populated_grid(num_items, grid_size):\n",
    "    grid = np.zeros((grid_size*grid_size))\n",
    "    grid[:int(NOISE_DENSITY*grid_size*grid_size)] = 1\n",
    "    np.random.shuffle(grid)\n",
    "    grid = np.reshape(grid, (grid_size, grid_size))\n",
    "    all_functions = [resistor, capacitor, voltage_source_mask, current_source_mask, circle, arrow, plus_mask, line_endpoint]\n",
    "    circuit_elt_functions = [resistor, capacitor, voltage_source_mask, current_source_mask]\n",
    "    geometric_functions = [circle, arrow, plus_mask, line_endpoint]\n",
    "    descs = []\n",
    "    for _ in range(num_items):\n",
    "        size = int(constrain(random.gauss(ELT_SIZE_MEAN, ELT_SIZE_STD), ELT_SIZE_MIN, ELT_SIZE_MAX))\n",
    "        thickness = int(constrain(random.gauss(THICKNESS_MEAN, THICKNESS_STD), THICKNESS_MIN, THICKNESS_MAX))\n",
    "        func_choice = random.choice(range(len(all_functions)))\n",
    "        theta_choice = random.choice(range(4))\n",
    "        theta = 90 * theta_choice\n",
    "        func = all_functions[func_choice]\n",
    "        if func in circuit_elt_functions:\n",
    "            w, shape = func(size, None, thickness, theta, grid_size, noisy=True, get_box=True)\n",
    "            draw_bounding_box(shape, w, epsilon=5)\n",
    "            w = np.array([func_choice*4+theta_choice] + list(w))\n",
    "            descs.append(w.astype('int32'))\n",
    "        elif func is line_endpoint:\n",
    "            get_pt = lambda: np.array([random.choice(range(0, grid_size-50)), random.choice(range(0, grid_size-50))])\n",
    "            pt1, pt2 = get_pt(), get_pt()\n",
    "            shape = line_endpoint(pt1, pt2, thickness, grid_size, noisy=True)\n",
    "        else:\n",
    "            shape = func(size, None, thickness, theta, grid_size, noisy=True)\n",
    "        grid = np.logical_or(grid, shape)\n",
    "    print(descs)\n",
    "    plt.imshow(grid)\n",
    "    plt.show()"
   ]
  },
  {
   "cell_type": "code",
   "execution_count": 729,
   "metadata": {},
   "outputs": [],
   "source": [
    "GRID_SIZE = 1000\n",
    "CENTER_NOISE_STD_PROPORTION = 0.4\n",
    "ROT_NOISE_STD = 6\n",
    "STRETCH_STD = 0.1\n",
    "MIN_STRETCH, MAX_STRETCH = -0.4, 0.4\n",
    "ADDITIVE_STD = GRID_SIZE / 500\n",
    "\n",
    "ELT_SIZE_MEAN_PROP = 0.15\n",
    "ELT_SIZE_STD_PROP = 0.025\n",
    "ELT_SIZE_MIN_PROP = 0.1\n",
    "ELT_SIZE_MAX_PROP = 0.22\n",
    "\n",
    "ELT_SIZE_MEAN = GRID_SIZE*ELT_SIZE_MEAN_PROP\n",
    "ELT_SIZE_STD = GRID_SIZE*ELT_SIZE_STD_PROP\n",
    "ELT_SIZE_MIN = GRID_SIZE*ELT_SIZE_MIN_PROP\n",
    "ELT_SIZE_MAX = GRID_SIZE*ELT_SIZE_MAX_PROP\n",
    "\n",
    "THICKNESS_MEAN_PROP = 0.01\n",
    "THICKNESS_STD_PROP = 0.003\n",
    "THICKNESS_MIN_PROP = 0.005\n",
    "THICKNESS_MAX_PROP = 0.015\n",
    "\n",
    "THICKNESS_MEAN = GRID_SIZE*THICKNESS_MEAN_PROP\n",
    "THICKNESS_STD = GRID_SIZE*THICKNESS_STD_PROP\n",
    "THICKNESS_MIN = GRID_SIZE*THICKNESS_MIN_PROP\n",
    "THICKNESS_MAX = GRID_SIZE*THICKNESS_MAX_PROP\n",
    "\n",
    "NOISE_DENSITY = 0.05"
   ]
  },
  {
   "cell_type": "code",
   "execution_count": 748,
   "metadata": {},
   "outputs": [
    {
     "name": "stdout",
     "output_type": "stream",
     "text": [
      "[-167.  -23.] [-204.6         -99.39539771]\n",
      "[-167.  -23.] [-139.4        -109.39539771]\n",
      "[932 745] [1146  841]\n",
      "[168.   82.5] [123.8        -42.16386238]\n",
      "[168.   82.5] [242.2        -22.16386238]\n",
      "[1417   91] [410 537]\n",
      "[1363  564] [1336   66]\n",
      "[array([ 14, 917, 729, 424, 424])]\n"
     ]
    },
    {
     "data": {
      "image/png": "[encoded data removed]",
      "text/plain": [
       "<Figure size 432x288 with 1 Axes>"
      ]
     },
     "metadata": {
      "needs_background": "light"
     },
     "output_type": "display_data"
    }
   ],
   "source": [
    "populated_grid(5, 1500)"
   ]
  }
 ],
 "metadata": {
  "kernelspec": {
   "display_name": "Python 3",
   "language": "python",
   "name": "python3"
  },
  "language_info": {
   "codemirror_mode": {
    "name": "ipython",
    "version": 3
   },
   "file_extension": ".py",
   "mimetype": "text/x-python",
   "name": "python",
   "nbconvert_exporter": "python",
   "pygments_lexer": "ipython3",
   "version": "3.6.5"
  }
 },
 "nbformat": 4,
 "nbformat_minor": 2
}
